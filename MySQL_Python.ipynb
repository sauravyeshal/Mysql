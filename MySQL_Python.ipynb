{
 "cells": [
  {
   "cell_type": "code",
   "execution_count": 6,
   "metadata": {
    "id": "fhv5a4idnOid"
   },
   "outputs": [],
   "source": [
    "#pip install mysql-connector\n"
   ]
  },
  {
   "cell_type": "code",
   "execution_count": null,
   "metadata": {
    "id": "6lBAzmoGujEs"
   },
   "outputs": [],
   "source": [
    "#Insert multiple row in data set\n",
    "\n",
    "# (2, 'Sakshi Yeshal', datetime.date(2000, 5, 19), datetime.date(2021, 4, 26)\n",
    "# (3, 'Sourabh Yeshal', datetime.date(1999, 11, 5), datetime.date(2021, 8, 21)\n",
    "# (4, 'Vaishnavi Yeshal', datetime.date(2002, 5, 11), datetime.date(2018, 2, 12)\n",
    "# (5, 'Sumit Yeshal', datetime.date(1998, 4, 9), datetime.date(2021, 7, 21)\n"
   ]
  },
  {
   "cell_type": "code",
   "execution_count": 5,
   "metadata": {
    "colab": {
     "base_uri": "https://localhost:8080/"
    },
    "id": "hnzIH3b2kMVH",
    "outputId": "347e3d22-67a6-4c35-8304-6f3efe658da8"
   },
   "outputs": [
    {
     "name": "stdout",
     "output_type": "stream",
     "text": [
      "Failed to insert into STUDENT table 1062 (23000): Duplicate entry '1' for key 'PRIMARY'\n",
      "Record inserted successfully into STUDENT table\n",
      "Record inserted successfully into STUDENT table\n",
      "Record inserted successfully into STUDENT table\n",
      "Record inserted successfully into STUDENT table\n"
     ]
    }
   ],
   "source": [
    "import mysql.connector\n",
    "\n",
    "def insert_varibles_into_table(STUDENT_NO, STUDENT_NAME, STUDENT_DOB, STUDENT_DOJ):\n",
    "    try:\n",
    "        connection = mysql.connector.connect(host=\"remotemysql.com\",\n",
    "                                             user=\"wx2j0z2kNU\",\n",
    "                                             password=\"tZrl2EMoOV\",\n",
    "                                             port = \"3306\",\n",
    "                                             database= \"wx2j0z2kNU\")\n",
    "        cursor = connection.cursor()\n",
    "        mySql_insert_query = \"\"\"INSERT INTO STUDENT (STUDENT_NO, STUDENT_NAME, STUDENT_DOB, STUDENT_DOJ) \n",
    "                                VALUES (%s, %s, %s, %s) \"\"\"\n",
    "\n",
    "        record = (STUDENT_NO, STUDENT_NAME, STUDENT_DOB, STUDENT_DOJ)\n",
    "        cursor.execute(mySql_insert_query, record)\n",
    "        connection.commit()\n",
    "        print(\"Record inserted successfully into STUDENT table\")\n",
    "\n",
    "    except mysql.connector.Error as error:\n",
    "        print(\"Failed to insert into STUDENT table {}\".format(error))\n",
    "\n",
    "\n",
    "\n",
    "insert_varibles_into_table(1, 'Rohit Chilka', '2000-04-05', '2019-04-14')\n",
    "insert_varibles_into_table(2, 'Sakshi Yeshal', '2000-05-19', '2021-04-26')\n",
    "insert_varibles_into_table(3, 'Sourabh Yeshal', '1999-11-05', '2021-08-21')\n",
    "insert_varibles_into_table(4, 'Vaishnavi Yeshal', '2002-05-11', '2018-02-12')\n",
    "insert_varibles_into_table(5, 'Sumit Yeshal', '1998-04-9', '2021-07-21')\n",
    "\n",
    "\n"
   ]
  },
  {
   "cell_type": "code",
   "execution_count": 10,
   "metadata": {
    "id": "jnTL4shcnXe1"
   },
   "outputs": [],
   "source": [
    "import mysql.connector\n",
    "mydb = mysql.connector.connect(\n",
    "  host=\"remotemysql.com\",\n",
    "  user=\"wx2j0z2kNU\",\n",
    "  password=\"tZrl2EMoOV\",\n",
    "  port = \"3306\",\n",
    "  database= \"wx2j0z2kNU\"\n",
    ")\n"
   ]
  },
  {
   "cell_type": "code",
   "execution_count": null,
   "metadata": {
    "id": "8JoHOnUZvV1n"
   },
   "outputs": [],
   "source": [
    "# STUDENT List by using for loop"
   ]
  },
  {
   "cell_type": "code",
   "execution_count": 11,
   "metadata": {
    "colab": {
     "base_uri": "https://localhost:8080/"
    },
    "id": "f_-e0PjQsW48",
    "outputId": "71172287-a284-42dc-d47e-fb8b6961c44d"
   },
   "outputs": [
    {
     "name": "stdout",
     "output_type": "stream",
     "text": [
      "(1, 'Rupali', datetime.date(1998, 9, 17), datetime.date(2021, 6, 11))\n",
      "(2, 'Sakshi Yeshal', datetime.date(2000, 5, 19), datetime.date(2021, 4, 26))\n",
      "(3, 'Sourabh Yeshal', datetime.date(1999, 11, 5), datetime.date(2021, 8, 21))\n",
      "(4, 'Vaishnavi Yeshal', datetime.date(2002, 5, 11), datetime.date(2018, 2, 12))\n",
      "(5, 'Sumit Yeshal', datetime.date(1998, 4, 9), datetime.date(2021, 7, 21))\n",
      "(7, 'Kaustubh', datetime.date(1998, 6, 5), datetime.date(2013, 3, 3))\n",
      "(9, 'Sneha  dudhe', datetime.date(1997, 5, 11), datetime.date(2016, 3, 12))\n",
      "(14, 'Dummy Stud', datetime.date(2021, 7, 26), datetime.date(2021, 7, 27))\n",
      "(24, 'SAM', datetime.date(2001, 6, 13), datetime.date(2020, 5, 18))\n"
     ]
    }
   ],
   "source": [
    "mycursor = mydb.cursor()\n",
    "mycursor.execute(\"SELECT * FROM STUDENT\")\n",
    "\n",
    "for x in mycursor:\n",
    "  print(x)"
   ]
  },
  {
   "cell_type": "code",
   "execution_count": 23,
   "metadata": {
    "colab": {
     "base_uri": "https://localhost:8080/"
    },
    "id": "BHMI7bIDuDgW",
    "outputId": "e1e82d10-b1f4-4ad2-db64-0e566daf364d"
   },
   "outputs": [
    {
     "name": "stdout",
     "output_type": "stream",
     "text": [
      "1 Record(s) Updated\n"
     ]
    }
   ],
   "source": [
    "# Update perticular row from STUDENT table by using update query\n",
    "import mysql.connector\n",
    "mydb = mysql.connector.connect(\n",
    "  host=\"remotemysql.com\",\n",
    "  user=\"wx2j0z2kNU\",\n",
    "  password=\"tZrl2EMoOV\",\n",
    "  port = \"3306\",\n",
    "  database= \"wx2j0z2kNU\"\n",
    ")\n",
    "\n",
    "mycursor = mydb.cursor()\n",
    "\n",
    "updateRow = \"UPDATE STUDENT SET STUDENT_NAME = 'Abhishek Yeshal' WHERE STUDENT_NAME = 'Sakshi Yeshal'\"\n",
    "mycursor.execute(updateRow)\n",
    "\n",
    "mydb.commit()\n",
    "\n",
    "print(mycursor.rowcount, \"Record(s) Updated\")"
   ]
  },
  {
   "cell_type": "code",
   "execution_count": 24,
   "metadata": {
    "colab": {
     "base_uri": "https://localhost:8080/"
    },
    "id": "fE0HfZgaw_YY",
    "outputId": "0f049075-ab67-4522-c0e4-930b0586b9e3"
   },
   "outputs": [
    {
     "name": "stdout",
     "output_type": "stream",
     "text": [
      "(1, 'Rupali', datetime.date(1998, 9, 17), datetime.date(2021, 6, 11))\n",
      "(2, 'Abhishek Yeshal', datetime.date(2000, 5, 19), datetime.date(2021, 4, 26))\n",
      "(3, 'Sourabh Yeshal', datetime.date(1999, 11, 5), datetime.date(2021, 8, 21))\n",
      "(4, 'Vaishnavi Yeshal', datetime.date(2002, 5, 11), datetime.date(2018, 2, 12))\n",
      "(5, 'Sumit Yeshal', datetime.date(1998, 4, 9), datetime.date(2021, 7, 21))\n",
      "(7, 'Kaustubh', datetime.date(1998, 6, 5), datetime.date(2013, 3, 3))\n",
      "(9, 'Sneha  dudhe', datetime.date(1997, 5, 11), datetime.date(2016, 3, 12))\n",
      "(14, 'Dummy Stud', datetime.date(2021, 7, 26), datetime.date(2021, 7, 27))\n",
      "(24, 'SAM', datetime.date(2001, 6, 13), datetime.date(2020, 5, 18))\n"
     ]
    }
   ],
   "source": [
    "#List of updated STUDENT TABLE\n",
    "mycursor = mydb.cursor()\n",
    "mycursor.execute(\"SELECT * FROM STUDENT\")\n",
    "\n",
    "for x in mycursor:\n",
    "  print(x)"
   ]
  },
  {
   "cell_type": "code",
   "execution_count": 27,
   "metadata": {
    "colab": {
     "base_uri": "https://localhost:8080/"
    },
    "id": "82hW5j70xW7w",
    "outputId": "6b6e5b31-fdc8-4d27-ea76-49dbb0600468"
   },
   "outputs": [
    {
     "name": "stdout",
     "output_type": "stream",
     "text": [
      "1 Record(s) Deleted\n"
     ]
    }
   ],
   "source": [
    "# To Delete perticular row from STUDENT table\n",
    "mydb = mysql.connector.connect(\n",
    "  host=\"remotemysql.com\",\n",
    "  user=\"wx2j0z2kNU\",\n",
    "  password=\"tZrl2EMoOV\",\n",
    "  port = \"3306\",\n",
    "  database= \"wx2j0z2kNU\"\n",
    ")\n",
    "mycursor = mydb.cursor()\n",
    "\n",
    "deleteRow = \"DELETE FROM STUDENT WHERE STUDENT_NAME = 'Vaishnavi Yeshal'\"\n",
    "mycursor.execute(deleteRow)\n",
    "mydb.commit()\n",
    "\n",
    "print(mycursor.rowcount, \"Record(s) Deleted\")\n"
   ]
  },
  {
   "cell_type": "code",
   "execution_count": null,
   "metadata": {
    "id": "BtPc766P0eWa"
   },
   "outputs": [],
   "source": []
  }
 ],
 "metadata": {
  "colab": {
   "name": "MySQL_Python.ipynb",
   "provenance": []
  },
  "kernelspec": {
   "display_name": "Python 3",
   "language": "python",
   "name": "python3"
  },
  "language_info": {
   "codemirror_mode": {
    "name": "ipython",
    "version": 3
   },
   "file_extension": ".py",
   "mimetype": "text/x-python",
   "name": "python",
   "nbconvert_exporter": "python",
   "pygments_lexer": "ipython3",
   "version": "3.7.3"
  }
 },
 "nbformat": 4,
 "nbformat_minor": 1
}
